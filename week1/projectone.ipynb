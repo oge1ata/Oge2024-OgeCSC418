{
 "cells": [
  {
   "cell_type": "code",
   "execution_count": 45,
   "metadata": {},
   "outputs": [],
   "source": [
    "import requests\n",
    "from bs4 import BeautifulSoup\n",
    "import cv2\n",
    "import numpy as np\n"
   ]
  },
  {
   "cell_type": "code",
   "execution_count": 46,
   "metadata": {},
   "outputs": [],
   "source": [
    "def scrape_profiles(url):\n",
    "    # Send a GET request to the URL\n",
    "    response = requests.get(url)\n",
    "    \n",
    "    # Parse the HTML content\n",
    "    soup = BeautifulSoup(response.content, 'html.parser')\n",
    "    profiles_data = []\n",
    "    \n",
    "    # Implement logic to extract first name, surname, and image URLs\n",
    "    # For example:\n",
    "    profile_elements = soup.find_all('div', class_='profile')\n",
    "    for profile_element in profile_elements:\n",
    "        first_name = profile_element.find('span', class_='first-name').text\n",
    "        surname = profile_element.find('span', class_='surname').text\n",
    "        image_url = profile_element.find('img')['src']\n",
    "        \n",
    "        # Store the extracted data in a dictionary\n",
    "        profile_info = {\n",
    "            'first_name': first_name,\n",
    "            'surname': surname,\n",
    "            'image_url': image_url\n",
    "        }\n",
    "        \n",
    "        # Append the profile info to the profiles_data list\n",
    "        profiles_data.append(profile_info)\n",
    "    \n",
    "    # Extract profile details\n",
    "    # Implement logic to extract first name, surname, and image URLs\n",
    "    \n",
    "    return profiles_data"
   ]
  },
  {
   "cell_type": "code",
   "execution_count": 47,
   "metadata": {},
   "outputs": [],
   "source": [
    "def generate_credentials(first_name, surname):\n",
    "    # Generate username (first name)\n",
    "    username = first_name.lower()\n",
    "    \n",
    "    # Calculate password (sum of the number of alphabets in surname)\n",
    "    password = sum(1 for char in surname if char.isalpha())\n",
    "    \n",
    "    return username, password"
   ]
  },
  {
   "cell_type": "code",
   "execution_count": 48,
   "metadata": {},
   "outputs": [],
   "source": [
    "\n",
    "# Function for facial recognition\n",
    "def facial_recognition(image_url):\n",
    "    # Download image from URL\n",
    "    image_response = requests.get(image_url)\n",
    "    image_data = image_response.content\n",
    "    \n",
    "    # Load image using OpenCV\n",
    "    nparr = np.frombuffer(image_data, np.uint8)\n",
    "    img = cv2.imdecode(nparr, cv2.IMREAD_COLOR)\n",
    "    \n",
    "    # Implement facial recognition logic using OpenCV\n",
    "    # You need to have pre-trained models for face detection and recognition\n",
    "    # For example, you can use Haar cascades for face detection and LBPH recognizer for recognition\n",
    "    \n",
    "    # Placeholder for facial recognition logic\n",
    "    # Replace this with your actual facial recognition code\n",
    "    \n",
    "    # Display the image for testing purposes\n",
    "    cv2.imshow('Image', img)\n",
    "    cv2.waitKey(0)\n",
    "    cv2.destroyAllWindows()"
   ]
  },
  {
   "cell_type": "code",
   "execution_count": 51,
   "metadata": {},
   "outputs": [],
   "source": [
    "def main():\n",
    "    # URL of PAU-UMC profiles webpage\n",
    "    url = \"https://pau.edu.ng/about-pau/governance/umc/\"\n",
    "    \n",
    "    # Scrape profiles\n",
    "    profiles_data = scrape_profiles(url)\n",
    "    \n",
    "    # Loop through each profile\n",
    "    for profile in profiles_data:\n",
    "        # Generate credentials\n",
    "        username, password = generate_credentials(profile['first_name'], profile['surname'])\n",
    "        \n",
    "        # Prompt user for login\n",
    "        entered_username = input(\"Enter username: \")\n",
    "        entered_password = input(\"Enter password: \")\n",
    "        \n",
    "        # Check if entered credentials match generated credentials\n",
    "        if entered_username.lower() == username and int(entered_password) == password:\n",
    "            # Perform facial recognition\n",
    "            if facial_recognition(profile['image_url']):\n",
    "                # Display profile details\n",
    "                print(\"Login successful!\")\n",
    "                print(\"Profile details:\")\n",
    "                print(\"First Name:\", profile['first_name'])\n",
    "                print(\"Surname:\", profile['surname'])\n",
    "                # Display other profile details as needed\n",
    "                break\n",
    "            else:\n",
    "                print(\"Facial recognition failed. Please try again.\")\n",
    "        else:\n",
    "            print(\"Invalid username or password. Please try again.\")\n",
    "\n",
    "if __name__ == \"__main__\":\n",
    "    main()"
   ]
  },
  {
   "cell_type": "code",
   "execution_count": 50,
   "metadata": {},
   "outputs": [],
   "source": []
  },
  {
   "cell_type": "code",
   "execution_count": null,
   "metadata": {},
   "outputs": [],
   "source": []
  },
  {
   "cell_type": "code",
   "execution_count": null,
   "metadata": {},
   "outputs": [],
   "source": []
  }
 ],
 "metadata": {
  "kernelspec": {
   "display_name": "myenv",
   "language": "python",
   "name": "python3"
  },
  "language_info": {
   "codemirror_mode": {
    "name": "ipython",
    "version": 3
   },
   "file_extension": ".py",
   "mimetype": "text/x-python",
   "name": "python",
   "nbconvert_exporter": "python",
   "pygments_lexer": "ipython3",
   "version": "3.10.9"
  }
 },
 "nbformat": 4,
 "nbformat_minor": 2
}
