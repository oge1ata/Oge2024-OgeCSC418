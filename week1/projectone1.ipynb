{
 "cells": [
  {
   "cell_type": "code",
   "execution_count": 2,
   "metadata": {},
   "outputs": [
    {
     "name": "stdout",
     "output_type": "stream",
     "text": [
      "Welcome enase!\n"
     ]
    }
   ],
   "source": [
    "import cv2\n",
    "import os\n",
    "\n",
    "users_db = [\"adaora\", \"chris\", \"darlington\",  \"enase\", \"ikechukwu\",  \"nneka\", \"peter\", \"sola\"]\n",
    "\n",
    "img_directory = os.path.abspath(\"profile-imgs\")\n",
    "profile_pics = os.listdir(img_directory)\n",
    "\n",
    "# enter username\n",
    "username = input(\"Enter Username: \").lower()\n",
    "\n",
    "# enter password\n",
    "password = int(input(\"Enter Password (length of username): \"))\n",
    "\n",
    "# authenticate\n",
    "if username in users_db and password == len(username):    \n",
    "    idx = users_db.index(username)\n",
    "    img_path = os.path.join(img_directory, profile_pics[idx])\n",
    "    full_name = profile_pics[idx].split(\".jpg\")[0]\n",
    "    print(f\"Welcome {full_name}!\") \n",
    "\n",
    "    if os.path.exists(img_path):\n",
    "        img = cv2.imread(img_path)\n",
    "        cv2.imshow(full_name, img)\n",
    "        cv2.waitKey(0)\n",
    "        cv2.destroyAllWindows()\n",
    "    else:\n",
    "        print(\"No profile picture found.\")\n",
    "else:\n",
    "    print(\"Incorrect Login details\")"
   ]
  }
 ],
 "metadata": {
  "kernelspec": {
   "display_name": "base",
   "language": "python",
   "name": "python3"
  },
  "language_info": {
   "codemirror_mode": {
    "name": "ipython",
    "version": 3
   },
   "file_extension": ".py",
   "mimetype": "text/x-python",
   "name": "python",
   "nbconvert_exporter": "python",
   "pygments_lexer": "ipython3",
   "version": "3.10.9"
  }
 },
 "nbformat": 4,
 "nbformat_minor": 2
}
