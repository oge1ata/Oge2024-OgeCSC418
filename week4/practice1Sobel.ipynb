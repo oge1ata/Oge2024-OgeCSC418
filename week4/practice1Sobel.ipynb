{
 "cells": [
  {
   "cell_type": "code",
   "execution_count": 1,
   "metadata": {},
   "outputs": [],
   "source": [
    "import cv2\n",
    "import numpy as np\n",
    "\n",
    "image = cv2.imread('img/wole.jpg', cv2.IMREAD_GRAYSCALE)\n",
    "\n",
    "image = cv2.resize(image, (500,400))\n",
    "\n",
    "sobelX = cv2.Sobel(image, cv2.CV_64F, 1, 0, ksize =3)\n",
    "sobelY = cv2.Sobel(image, cv2.CV_64F, 0, 1, ksize =3)\n",
    "\n",
    "sobelCombined = cv2.magnitude(sobelX, sobelY)\n",
    "\n",
    "cv2.imshow('original', image)\n",
    "cv2.imshow('Sobel Edges', np.uint8(sobelCombined))\n",
    "\n",
    "cv2.waitKey(0)\n",
    "cv2.destroyAllWindows()"
   ]
  }
 ],
 "metadata": {
  "kernelspec": {
   "display_name": "base",
   "language": "python",
   "name": "python3"
  },
  "language_info": {
   "codemirror_mode": {
    "name": "ipython",
    "version": 3
   },
   "file_extension": ".py",
   "mimetype": "text/x-python",
   "name": "python",
   "nbconvert_exporter": "python",
   "pygments_lexer": "ipython3",
   "version": "3.10.9"
  }
 },
 "nbformat": 4,
 "nbformat_minor": 2
}
