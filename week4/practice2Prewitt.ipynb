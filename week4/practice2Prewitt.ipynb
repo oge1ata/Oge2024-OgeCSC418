{
 "cells": [
  {
   "cell_type": "code",
   "execution_count": 1,
   "metadata": {},
   "outputs": [],
   "source": [
    "import cv2\n",
    "import numpy as np\n",
    "\n",
    "image = cv2.imread('img/wole.jpg', cv2.IMREAD_GRAYSCALE)\n",
    "\n",
    "image = cv2.resize(image, (500,400))\n",
    "\n",
    "#Define Prewitt kernels\n",
    "kernelX = np.array([[-1, -1, -1], [0, 0, 0], [1, 1, 1]])\n",
    "kernelY = np.array([[-1, 0, 1], [-1, 0, 1], [-1, 0, 1]])\n",
    "\n",
    "\n",
    "prewittX = cv2.filter2D(image, -1, kernelX)\n",
    "prewittY = cv2.filter2D(image, -1, kernelY)\n",
    "\n",
    "\n",
    "prewittCombined = np.sqrt(np.square(prewittX) + np.square(prewittY))\n",
    "\n",
    "cv2.imshow('original', image)\n",
    "cv2.imshow('Prewitt Edges', np.uint8(prewittCombined))\n",
    "\n",
    "cv2.waitKey(0)\n",
    "cv2.destroyAllWindows()"
   ]
  }
 ],
 "metadata": {
  "kernelspec": {
   "display_name": "base",
   "language": "python",
   "name": "python3"
  },
  "language_info": {
   "codemirror_mode": {
    "name": "ipython",
    "version": 3
   },
   "file_extension": ".py",
   "mimetype": "text/x-python",
   "name": "python",
   "nbconvert_exporter": "python",
   "pygments_lexer": "ipython3",
   "version": "3.10.9"
  }
 },
 "nbformat": 4,
 "nbformat_minor": 2
}
