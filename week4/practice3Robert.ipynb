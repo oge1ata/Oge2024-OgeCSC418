{
 "cells": [
  {
   "cell_type": "code",
   "execution_count": 1,
   "metadata": {},
   "outputs": [],
   "source": [
    "import cv2\n",
    "import numpy as np\n",
    "\n",
    "image = cv2.imread('img/wole.jpg', cv2.IMREAD_GRAYSCALE)\n",
    "\n",
    "image = cv2.GaussianBlur(image, (5,5), 0)\n",
    "\n",
    "#Define Prewitt kernels\n",
    "kernelX = np.array([[1, 0], [0, -1]])\n",
    "kernelY = np.array([[0, 1], [-1, 0]])\n",
    "\n",
    "\n",
    "robertX = cv2.filter2D(image, -1, kernelX)\n",
    "robertY = cv2.filter2D(image, -1, kernelY)\n",
    "\n",
    "\n",
    "robertCombined = np.sqrt(np.square(robertX) + np.square(robertY))\n",
    "\n",
    "cv2.imshow('original', image)\n",
    "cv2.imshow('Prewitt Edges', np.uint8(robertCombined))\n",
    "\n",
    "cv2.waitKey(0)\n",
    "cv2.destroyAllWindows()"
   ]
  }
 ],
 "metadata": {
  "kernelspec": {
   "display_name": "base",
   "language": "python",
   "name": "python3"
  },
  "language_info": {
   "codemirror_mode": {
    "name": "ipython",
    "version": 3
   },
   "file_extension": ".py",
   "mimetype": "text/x-python",
   "name": "python",
   "nbconvert_exporter": "python",
   "pygments_lexer": "ipython3",
   "version": "3.10.9"
  }
 },
 "nbformat": 4,
 "nbformat_minor": 2
}
